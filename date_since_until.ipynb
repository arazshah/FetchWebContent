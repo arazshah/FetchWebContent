{
  "cells": [
    {
      "cell_type": "markdown",
      "metadata": {
        "id": "view-in-github",
        "colab_type": "text"
      },
      "source": [
        "<a href=\"https://colab.research.google.com/github/arazshah/FetchWebContent/blob/main/date_since_until.ipynb\" target=\"_parent\"><img src=\"https://colab.research.google.com/assets/colab-badge.svg\" alt=\"Open In Colab\"/></a>"
      ]
    },
    {
      "cell_type": "code",
      "source": [
        "import datetime"
      ],
      "metadata": {
        "id": "t6ZYV-oL31F1"
      },
      "execution_count": 6,
      "outputs": []
    },
    {
      "cell_type": "code",
      "source": [
        "date_since=\"2021-09-29\"\n",
        "date_until=\"2022-03-20\""
      ],
      "metadata": {
        "id": "ZdEsbed832nx"
      },
      "execution_count": 7,
      "outputs": []
    },
    {
      "cell_type": "code",
      "source": [
        "start_dateY,start_dateM,start_dateD=date_since.split('-')[0],date_since.split('-')[1],date_since.split('-')[2]\n",
        "end_dateY,end_dateM,end_dateD=date_until.split('-')[0],date_until.split('-')[1],date_until.split('-')[2]"
      ],
      "metadata": {
        "id": "KW_-pl144Ign"
      },
      "execution_count": 8,
      "outputs": []
    },
    {
      "cell_type": "code",
      "source": [
        "start_date=datetime.date(int(start_dateY),int(start_dateM),int(start_dateD))\n",
        "end_date=datetime.date(int(end_dateY),int(end_dateM),int(end_dateD))"
      ],
      "metadata": {
        "id": "RqNUNcAk4iGA"
      },
      "execution_count": 9,
      "outputs": []
    },
    {
      "cell_type": "code",
      "source": [
        "delta=datetime.timedelta(days=1)"
      ],
      "metadata": {
        "id": "DlkIwMqq4kUa"
      },
      "execution_count": 10,
      "outputs": []
    },
    {
      "cell_type": "code",
      "source": [
        "dates=[]"
      ],
      "metadata": {
        "id": "qCWEbAlo4mGh"
      },
      "execution_count": 11,
      "outputs": []
    },
    {
      "cell_type": "code",
      "source": [
        "while (start_date<=end_date):\n",
        "  dates.append(start_date)\n",
        "  start_date+=delta"
      ],
      "metadata": {
        "id": "MHB95GW_4n0w"
      },
      "execution_count": 12,
      "outputs": []
    },
    {
      "cell_type": "code",
      "source": [
        "dates"
      ],
      "metadata": {
        "id": "SgDAiCvW4o6j",
        "outputId": "0cfee383-9705-4697-fccc-1ef9f1b9a410",
        "colab": {
          "base_uri": "https://localhost:8080/"
        }
      },
      "execution_count": 13,
      "outputs": [
        {
          "output_type": "execute_result",
          "data": {
            "text/plain": [
              "[datetime.date(2021, 9, 29),\n",
              " datetime.date(2021, 9, 30),\n",
              " datetime.date(2021, 10, 1),\n",
              " datetime.date(2021, 10, 2),\n",
              " datetime.date(2021, 10, 3),\n",
              " datetime.date(2021, 10, 4),\n",
              " datetime.date(2021, 10, 5),\n",
              " datetime.date(2021, 10, 6),\n",
              " datetime.date(2021, 10, 7),\n",
              " datetime.date(2021, 10, 8),\n",
              " datetime.date(2021, 10, 9),\n",
              " datetime.date(2021, 10, 10),\n",
              " datetime.date(2021, 10, 11),\n",
              " datetime.date(2021, 10, 12),\n",
              " datetime.date(2021, 10, 13),\n",
              " datetime.date(2021, 10, 14),\n",
              " datetime.date(2021, 10, 15),\n",
              " datetime.date(2021, 10, 16),\n",
              " datetime.date(2021, 10, 17),\n",
              " datetime.date(2021, 10, 18),\n",
              " datetime.date(2021, 10, 19),\n",
              " datetime.date(2021, 10, 20),\n",
              " datetime.date(2021, 10, 21),\n",
              " datetime.date(2021, 10, 22),\n",
              " datetime.date(2021, 10, 23),\n",
              " datetime.date(2021, 10, 24),\n",
              " datetime.date(2021, 10, 25),\n",
              " datetime.date(2021, 10, 26),\n",
              " datetime.date(2021, 10, 27),\n",
              " datetime.date(2021, 10, 28),\n",
              " datetime.date(2021, 10, 29),\n",
              " datetime.date(2021, 10, 30),\n",
              " datetime.date(2021, 10, 31),\n",
              " datetime.date(2021, 11, 1),\n",
              " datetime.date(2021, 11, 2),\n",
              " datetime.date(2021, 11, 3),\n",
              " datetime.date(2021, 11, 4),\n",
              " datetime.date(2021, 11, 5),\n",
              " datetime.date(2021, 11, 6),\n",
              " datetime.date(2021, 11, 7),\n",
              " datetime.date(2021, 11, 8),\n",
              " datetime.date(2021, 11, 9),\n",
              " datetime.date(2021, 11, 10),\n",
              " datetime.date(2021, 11, 11),\n",
              " datetime.date(2021, 11, 12),\n",
              " datetime.date(2021, 11, 13),\n",
              " datetime.date(2021, 11, 14),\n",
              " datetime.date(2021, 11, 15),\n",
              " datetime.date(2021, 11, 16),\n",
              " datetime.date(2021, 11, 17),\n",
              " datetime.date(2021, 11, 18),\n",
              " datetime.date(2021, 11, 19),\n",
              " datetime.date(2021, 11, 20),\n",
              " datetime.date(2021, 11, 21),\n",
              " datetime.date(2021, 11, 22),\n",
              " datetime.date(2021, 11, 23),\n",
              " datetime.date(2021, 11, 24),\n",
              " datetime.date(2021, 11, 25),\n",
              " datetime.date(2021, 11, 26),\n",
              " datetime.date(2021, 11, 27),\n",
              " datetime.date(2021, 11, 28),\n",
              " datetime.date(2021, 11, 29),\n",
              " datetime.date(2021, 11, 30),\n",
              " datetime.date(2021, 12, 1),\n",
              " datetime.date(2021, 12, 2),\n",
              " datetime.date(2021, 12, 3),\n",
              " datetime.date(2021, 12, 4),\n",
              " datetime.date(2021, 12, 5),\n",
              " datetime.date(2021, 12, 6),\n",
              " datetime.date(2021, 12, 7),\n",
              " datetime.date(2021, 12, 8),\n",
              " datetime.date(2021, 12, 9),\n",
              " datetime.date(2021, 12, 10),\n",
              " datetime.date(2021, 12, 11),\n",
              " datetime.date(2021, 12, 12),\n",
              " datetime.date(2021, 12, 13),\n",
              " datetime.date(2021, 12, 14),\n",
              " datetime.date(2021, 12, 15),\n",
              " datetime.date(2021, 12, 16),\n",
              " datetime.date(2021, 12, 17),\n",
              " datetime.date(2021, 12, 18),\n",
              " datetime.date(2021, 12, 19),\n",
              " datetime.date(2021, 12, 20),\n",
              " datetime.date(2021, 12, 21),\n",
              " datetime.date(2021, 12, 22),\n",
              " datetime.date(2021, 12, 23),\n",
              " datetime.date(2021, 12, 24),\n",
              " datetime.date(2021, 12, 25),\n",
              " datetime.date(2021, 12, 26),\n",
              " datetime.date(2021, 12, 27),\n",
              " datetime.date(2021, 12, 28),\n",
              " datetime.date(2021, 12, 29),\n",
              " datetime.date(2021, 12, 30),\n",
              " datetime.date(2021, 12, 31),\n",
              " datetime.date(2022, 1, 1),\n",
              " datetime.date(2022, 1, 2),\n",
              " datetime.date(2022, 1, 3),\n",
              " datetime.date(2022, 1, 4),\n",
              " datetime.date(2022, 1, 5),\n",
              " datetime.date(2022, 1, 6),\n",
              " datetime.date(2022, 1, 7),\n",
              " datetime.date(2022, 1, 8),\n",
              " datetime.date(2022, 1, 9),\n",
              " datetime.date(2022, 1, 10),\n",
              " datetime.date(2022, 1, 11),\n",
              " datetime.date(2022, 1, 12),\n",
              " datetime.date(2022, 1, 13),\n",
              " datetime.date(2022, 1, 14),\n",
              " datetime.date(2022, 1, 15),\n",
              " datetime.date(2022, 1, 16),\n",
              " datetime.date(2022, 1, 17),\n",
              " datetime.date(2022, 1, 18),\n",
              " datetime.date(2022, 1, 19),\n",
              " datetime.date(2022, 1, 20),\n",
              " datetime.date(2022, 1, 21),\n",
              " datetime.date(2022, 1, 22),\n",
              " datetime.date(2022, 1, 23),\n",
              " datetime.date(2022, 1, 24),\n",
              " datetime.date(2022, 1, 25),\n",
              " datetime.date(2022, 1, 26),\n",
              " datetime.date(2022, 1, 27),\n",
              " datetime.date(2022, 1, 28),\n",
              " datetime.date(2022, 1, 29),\n",
              " datetime.date(2022, 1, 30),\n",
              " datetime.date(2022, 1, 31),\n",
              " datetime.date(2022, 2, 1),\n",
              " datetime.date(2022, 2, 2),\n",
              " datetime.date(2022, 2, 3),\n",
              " datetime.date(2022, 2, 4),\n",
              " datetime.date(2022, 2, 5),\n",
              " datetime.date(2022, 2, 6),\n",
              " datetime.date(2022, 2, 7),\n",
              " datetime.date(2022, 2, 8),\n",
              " datetime.date(2022, 2, 9),\n",
              " datetime.date(2022, 2, 10),\n",
              " datetime.date(2022, 2, 11),\n",
              " datetime.date(2022, 2, 12),\n",
              " datetime.date(2022, 2, 13),\n",
              " datetime.date(2022, 2, 14),\n",
              " datetime.date(2022, 2, 15),\n",
              " datetime.date(2022, 2, 16),\n",
              " datetime.date(2022, 2, 17),\n",
              " datetime.date(2022, 2, 18),\n",
              " datetime.date(2022, 2, 19),\n",
              " datetime.date(2022, 2, 20),\n",
              " datetime.date(2022, 2, 21),\n",
              " datetime.date(2022, 2, 22),\n",
              " datetime.date(2022, 2, 23),\n",
              " datetime.date(2022, 2, 24),\n",
              " datetime.date(2022, 2, 25),\n",
              " datetime.date(2022, 2, 26),\n",
              " datetime.date(2022, 2, 27),\n",
              " datetime.date(2022, 2, 28),\n",
              " datetime.date(2022, 3, 1),\n",
              " datetime.date(2022, 3, 2),\n",
              " datetime.date(2022, 3, 3),\n",
              " datetime.date(2022, 3, 4),\n",
              " datetime.date(2022, 3, 5),\n",
              " datetime.date(2022, 3, 6),\n",
              " datetime.date(2022, 3, 7),\n",
              " datetime.date(2022, 3, 8),\n",
              " datetime.date(2022, 3, 9),\n",
              " datetime.date(2022, 3, 10),\n",
              " datetime.date(2022, 3, 11),\n",
              " datetime.date(2022, 3, 12),\n",
              " datetime.date(2022, 3, 13),\n",
              " datetime.date(2022, 3, 14),\n",
              " datetime.date(2022, 3, 15),\n",
              " datetime.date(2022, 3, 16),\n",
              " datetime.date(2022, 3, 17),\n",
              " datetime.date(2022, 3, 18),\n",
              " datetime.date(2022, 3, 19),\n",
              " datetime.date(2022, 3, 20)]"
            ]
          },
          "metadata": {},
          "execution_count": 13
        }
      ]
    },
    {
      "cell_type": "code",
      "source": [],
      "metadata": {
        "id": "gJO8YDm24pgV"
      },
      "execution_count": null,
      "outputs": []
    }
  ],
  "metadata": {
    "colab": {
      "name": "Welcome To Colaboratory",
      "toc_visible": true,
      "provenance": [],
      "include_colab_link": true
    },
    "kernelspec": {
      "display_name": "Python 3",
      "name": "python3"
    }
  },
  "nbformat": 4,
  "nbformat_minor": 0
}